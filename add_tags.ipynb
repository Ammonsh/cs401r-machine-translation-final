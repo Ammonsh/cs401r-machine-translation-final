{
 "cells": [
  {
   "cell_type": "code",
   "execution_count": 1,
   "metadata": {},
   "outputs": [],
   "source": [
    "def add_tag(sentence, tag):\n",
    "    return tag + \" \" + sentence\n",
    "\n",
    "def add_tags(sentences, tag):\n",
    "    new_sentences = []\n",
    "    for s in sentences:\n",
    "        new_sentences.append(add_tag(s, tag))\n",
    "    \n",
    "    return new_sentences"
   ]
  },
  {
   "cell_type": "code",
   "execution_count": 5,
   "metadata": {},
   "outputs": [],
   "source": [
    "def open_and_write(paths, tag):\n",
    "    for path in paths:\n",
    "        sentences = []\n",
    "        with open(path[0]) as input:\n",
    "            for line in input:\n",
    "                sentences.append(add_tag(line,tag))\n",
    "        with open(path[1], 'w') as output:\n",
    "            for s in sentences:\n",
    "                output.write(s) \n"
   ]
  },
  {
   "cell_type": "code",
   "execution_count": 7,
   "metadata": {},
   "outputs": [],
   "source": [
    "# English\n",
    "paths = [('cleaned/english/km-en.src', 'cleaned-tagged/english/km-en.src'), ('cleaned/english/lo-en.src', 'cleaned-tagged/english/lo-en.src'), ('cleaned/english/th-en.src', 'cleaned-tagged/english/th-en.src')]\n",
    "open_and_write(paths, '<en>')"
   ]
  },
  {
   "cell_type": "code",
   "execution_count": 9,
   "metadata": {},
   "outputs": [],
   "source": [
    "# Khmer\n",
    "km_paths = [('cleaned/khmer/en-km.src','cleaned-tagged/khmer/en-km.src'), ('cleaned/khmer/lo-km.src','cleaned-tagged/khmer/lo-km.src'), ('cleaned/khmer/th-km.src','cleaned-tagged/khmer/th-km.src')]\n",
    "open_and_write(km_paths, '<km>')"
   ]
  },
  {
   "cell_type": "code",
   "execution_count": 10,
   "metadata": {},
   "outputs": [],
   "source": [
    "# Lao\n",
    "lo_paths = [('cleaned/lao/en-lo.src','cleaned-tagged/lao/en-lo.src'),('cleaned/lao/km-lo.src','cleaned-tagged/lao/km-lo.src'), ('cleaned/lao/th-lo.src','cleaned-tagged/lao/th-lo.src')]\n",
    "open_and_write(lo_paths, '<lo>')"
   ]
  },
  {
   "cell_type": "code",
   "execution_count": 11,
   "metadata": {},
   "outputs": [],
   "source": [
    "# Thai\n",
    "th_paths = [('cleaned/thai/en-th.src','cleaned-tagged/thai/en-th.src'),('cleaned/thai/km-th.src','cleaned-tagged/thai/km-th.src'),('cleaned/thai/lo-th.src','cleaned-tagged/thai/lo-th.src')]\n",
    "open_and_write(th_paths, '<th>')"
   ]
  },
  {
   "cell_type": "code",
   "execution_count": null,
   "metadata": {},
   "outputs": [],
   "source": []
  }
 ],
 "metadata": {
  "interpreter": {
   "hash": "aee8b7b246df8f9039afb4144a1f6fd8d2ca17a180786b69acc140d282b71a49"
  },
  "kernelspec": {
   "display_name": "Python 3.10.1 64-bit",
   "language": "python",
   "name": "python3"
  },
  "language_info": {
   "codemirror_mode": {
    "name": "ipython",
    "version": 3
   },
   "file_extension": ".py",
   "mimetype": "text/x-python",
   "name": "python",
   "nbconvert_exporter": "python",
   "pygments_lexer": "ipython3",
   "version": "3.10.1"
  },
  "orig_nbformat": 4
 },
 "nbformat": 4,
 "nbformat_minor": 2
}
