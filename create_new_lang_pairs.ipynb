{
 "cells": [
  {
   "cell_type": "code",
   "execution_count": 1,
   "metadata": {},
   "outputs": [],
   "source": [
    "# Create Th-Km\n",
    "import time"
   ]
  },
  {
   "cell_type": "code",
   "execution_count": 2,
   "metadata": {},
   "outputs": [],
   "source": [
    "def open_file(path):\n",
    "    lines = []\n",
    "    with open(path) as f:\n",
    "        for line in f:\n",
    "            lines.append(line)\n",
    "    return lines"
   ]
  },
  {
   "cell_type": "code",
   "execution_count": 49,
   "metadata": {},
   "outputs": [],
   "source": [
    "enkm_english = open_file('cleaned/en-km.src')\n",
    "enkm_khmer = open_file('cleaned/en-km.tgt')\n",
    "enth_english = open_file('cleaned/en-th.src')\n",
    "enth_thai = open_file('cleaned/en-th.tgt')\n",
    "enlo_english = open_file('cleaned/en-lo.src')\n",
    "enlo_lao = open_file('cleaned/en-lo.tgt')\n"
   ]
  },
  {
   "cell_type": "code",
   "execution_count": 23,
   "metadata": {},
   "outputs": [
    {
     "name": "stdout",
     "output_type": "stream",
     "text": [
      "171467 1129267\n"
     ]
    }
   ],
   "source": [
    "print(len(enlo_english), len(enkm_english))"
   ]
  },
  {
   "cell_type": "code",
   "execution_count": 25,
   "metadata": {},
   "outputs": [],
   "source": [
    "dict1 = {}\n",
    "dict2 = {}\n",
    "\n",
    "for i in range(len(enlo_english)):\n",
    "    dict1[enlo_english[i]] = i\n",
    "for i in range(len(enkm_english)):\n",
    "    dict2[enkm_english[i]] = i\n"
   ]
  },
  {
   "cell_type": "code",
   "execution_count": 41,
   "metadata": {},
   "outputs": [],
   "source": [
    "dict1set = set(dict1)\n",
    "dict2set = set(dict2)\n",
    "\n",
    "matches = []\n",
    "\n",
    "for s in dict1set.intersection(dict2set):\n",
    "    matches.append((dict1[s], dict2[s]))"
   ]
  },
  {
   "cell_type": "code",
   "execution_count": 42,
   "metadata": {},
   "outputs": [
    {
     "name": "stdout",
     "output_type": "stream",
     "text": [
      "(37011, 399590)\n",
      "71461\n"
     ]
    }
   ],
   "source": [
    "print(matches[1])\n",
    "print(len(matches))"
   ]
  },
  {
   "cell_type": "code",
   "execution_count": 33,
   "metadata": {},
   "outputs": [
    {
     "name": "stdout",
     "output_type": "stream",
     "text": [
      "Chapter 46: The Second Coming \n",
      "\n",
      "Chapter 46: The Second Coming \n",
      "\n"
     ]
    }
   ],
   "source": [
    "print(enlo_english[37011])\n",
    "print(enkm_english[399590])"
   ]
  },
  {
   "cell_type": "code",
   "execution_count": 35,
   "metadata": {},
   "outputs": [],
   "source": [
    "# Get matches and create files from them\n",
    "lokm_lao = []\n",
    "lokm_khmer = []\n",
    "for indeces in matches:\n",
    "    lokm_lao.append(enlo_lao[indeces[0]])\n",
    "    lokm_khmer.append(enkm_khmer[indeces[1]])"
   ]
  },
  {
   "cell_type": "code",
   "execution_count": 38,
   "metadata": {},
   "outputs": [
    {
     "name": "stdout",
     "output_type": "stream",
     "text": [
      "ແຕ່ \"ພຣະ​ຜູ້​ເປັນ​ເຈົ້າຈະຮັບ​ເອົາ [ຜູ້​ຄົນ​ຂອງ​ພຣະ​ອົງ] ຂຶ້ນ​ໄປ​ຫາ​ພຣະ​ອົງ​ໃນລັດ​ສະ​ໝີ​ພາບ\" ສະ​ເໝີ (ແອວມາ 14:11). \n",
      " ប៉ុន្តែ « ព្រះអម្ចាស់​តែងតែ​ទទួល​យក [ រាស្ត្ររបស់​ទ្រង់ ] ឡើង​ទៅ​ឯ​ទ្រង់​ក្នុង​សិរីល្អ » ( អាលម៉ា ១៤:១១ ) ។ \n",
      "\n"
     ]
    }
   ],
   "source": [
    "print(lokm_lao[-1], lokm_khmer[-1])"
   ]
  },
  {
   "cell_type": "code",
   "execution_count": 39,
   "metadata": {},
   "outputs": [],
   "source": [
    "def write_to_file(path, src_data, tgt_data):\n",
    "   with open(path + \".src\", 'w') as f:\n",
    "    for s in src_data:\n",
    "        f.write(s)\n",
    "        \n",
    "    with open(path + \".tgt\", 'w') as f:\n",
    "        for s in tgt_data:\n",
    "            f.write(s)\n",
    "    "
   ]
  },
  {
   "cell_type": "code",
   "execution_count": 40,
   "metadata": {},
   "outputs": [],
   "source": [
    "write_to_file(\"lo-km\", lokm_lao, lokm_khmer)"
   ]
  },
  {
   "cell_type": "code",
   "execution_count": 50,
   "metadata": {},
   "outputs": [],
   "source": [
    "dict_th = {}\n",
    "dict_km = {}\n",
    "dict_lo = {}\n",
    "\n",
    "for i in range(len(enth_english)):\n",
    "    dict_th[enth_english[i]] = i\n",
    "for i in range(len(enkm_english)):\n",
    "    dict_km[enkm_english[i]] = i\n",
    "for i in range(len(enlo_english)):\n",
    "    dict_lo[enlo_english[i]] = i\n",
    "    \n",
    "dict_th_set = set(dict_th)\n",
    "dict_km_set = set(dict_km)\n",
    "dict_lo_set = set(dict_lo)\n",
    "\n",
    "matches_th_km = []\n",
    "\n",
    "for s in dict_th_set.intersection(dict_km_set):\n",
    "    matches_th_km.append((dict_th[s], dict_km[s]))\n",
    "\n",
    "matches_lo_th = []\n",
    "\n",
    "for s in dict_lo_set.intersection(dict_th_set):\n",
    "    matches_lo_th.append((dict_lo[s], dict_th[s]))"
   ]
  },
  {
   "cell_type": "code",
   "execution_count": 51,
   "metadata": {},
   "outputs": [],
   "source": [
    "thkm_thai = []\n",
    "thkm_khmer = []\n",
    "for indeces in matches_th_km:\n",
    "    thkm_thai.append(enth_thai[indeces[0]])\n",
    "    thkm_khmer.append(enkm_khmer[indeces[1]])\n",
    "\n",
    "loth_lao = []\n",
    "loth_thai = []\n",
    "for indeces in matches_lo_th:\n",
    "    loth_lao.append(enlo_lao[indeces[0]])\n",
    "    loth_thai.append(enth_thai[indeces[1]])"
   ]
  },
  {
   "cell_type": "code",
   "execution_count": 52,
   "metadata": {},
   "outputs": [],
   "source": [
    "write_to_file(\"cleaned/th-km\", thkm_thai, thkm_khmer)\n",
    "write_to_file(\"cleaned/lo-th\", loth_lao, loth_thai)\n"
   ]
  },
  {
   "cell_type": "code",
   "execution_count": 53,
   "metadata": {},
   "outputs": [
    {
     "name": "stdout",
     "output_type": "stream",
     "text": [
      "อ่าน 1 นีไฟ 15:14และทำเครื่องหมายสิ่งที่อิสราเอลซึ่งกระจัดกระจายจะเข้าใจในยุคสุดท้าย \n",
      "\n"
     ]
    }
   ],
   "source": [
    "print(thkm_thai[0])"
   ]
  },
  {
   "cell_type": "code",
   "execution_count": null,
   "metadata": {},
   "outputs": [],
   "source": []
  }
 ],
 "metadata": {
  "interpreter": {
   "hash": "aee8b7b246df8f9039afb4144a1f6fd8d2ca17a180786b69acc140d282b71a49"
  },
  "kernelspec": {
   "display_name": "Python 3.10.1 64-bit",
   "language": "python",
   "name": "python3"
  },
  "language_info": {
   "codemirror_mode": {
    "name": "ipython",
    "version": 3
   },
   "file_extension": ".py",
   "mimetype": "text/x-python",
   "name": "python",
   "nbconvert_exporter": "python",
   "pygments_lexer": "ipython3",
   "version": "3.10.1"
  },
  "orig_nbformat": 4
 },
 "nbformat": 4,
 "nbformat_minor": 2
}
