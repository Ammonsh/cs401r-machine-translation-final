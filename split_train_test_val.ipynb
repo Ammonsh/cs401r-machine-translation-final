{
 "cells": [
  {
   "cell_type": "code",
   "execution_count": 1,
   "metadata": {},
   "outputs": [],
   "source": [
    "import random"
   ]
  },
  {
   "cell_type": "code",
   "execution_count": null,
   "metadata": {},
   "outputs": [],
   "source": [
    "path = 'cleaned-tagged/english/km-en'\n",
    "\n",
    "src_path = path + '.src'\n",
    "tgt_path = path + '.tgt'\n",
    "\n",
    "src = []\n",
    "tgt = []\n",
    "\n",
    "with open(src_path, 'r') as input:\n",
    "    for line in input:\n",
    "        src.append(line)\n",
    "    \n",
    "with open(tgt_path, 'r') as input:\n",
    "    for line in input:\n",
    "        tgt.append(line)"
   ]
  },
  {
   "cell_type": "code",
   "execution_count": null,
   "metadata": {},
   "outputs": [],
   "source": [
    "src_train, tgt_train = [], []\n",
    "src_test, tgt_test = [], []\n",
    "src_val, tgt_val = [], []"
   ]
  },
  {
   "cell_type": "code",
   "execution_count": null,
   "metadata": {},
   "outputs": [],
   "source": [
    "train_size = len(src) - 10000\n",
    "validation_size = 5000\n",
    "test_size = 5000\n",
    "\n",
    "all_indeces = random.sample(range(train_size+validation_size+test_size), train_size+validation_size+test_size)\n",
    "train_indeces = all_indeces[:train_size]\n",
    "validation_indeces = all_indeces[train_size:train_size+validation_size]\n",
    "test_indeces = all_indeces[train_size+validation_size:train_size+validation_size+test_size]\n",
    "\n",
    "src_train = [src[i] for i in train_indeces]\n",
    "tgt_train = [tgt[i] for i in train_indeces]\n",
    "\n",
    "src_test = [src[i] for i in test_indeces]\n",
    "tgt_test = [tgt[i] for i in test_indeces]\n",
    "\n",
    "src_val = [src[i] for i in validation_indeces]\n",
    "tgt_val = [tgt[i] for i in validation_indeces]"
   ]
  },
  {
   "cell_type": "code",
   "execution_count": null,
   "metadata": {},
   "outputs": [],
   "source": [
    "def write_to_file(path, data):\n",
    "    with open(path, 'w') as f:\n",
    "        for s in data:\n",
    "            f.write(s)"
   ]
  },
  {
   "cell_type": "code",
   "execution_count": null,
   "metadata": {},
   "outputs": [],
   "source": [
    "src_train_path = path + '-train.src'\n",
    "tgt_train_path = path + '-train.tgt'\n",
    "\n",
    "src_val_path = path + '-val.src'\n",
    "tgt_val_path = path + '-val.tgt'\n",
    "\n",
    "src_test_path = path + '-test.src'\n",
    "tgt_test_path = path + '-test.tgt'"
   ]
  },
  {
   "cell_type": "code",
   "execution_count": null,
   "metadata": {},
   "outputs": [],
   "source": [
    "write_to_file(src_train_path, src_train)\n",
    "write_to_file(tgt_train_path, tgt_train)\n",
    "write_to_file(src_test_path, src_test)\n",
    "write_to_file(tgt_test_path, tgt_test)\n",
    "write_to_file(src_val_path, src_val)\n",
    "write_to_file(tgt_val_path, tgt_val)"
   ]
  }
 ],
 "metadata": {
  "interpreter": {
   "hash": "916dbcbb3f70747c44a77c7bcd40155683ae19c65e1c03b4aa3499c5328201f1"
  },
  "kernelspec": {
   "display_name": "Python 3.8.10 64-bit",
   "language": "python",
   "name": "python3"
  },
  "language_info": {
   "codemirror_mode": {
    "name": "ipython",
    "version": 3
   },
   "file_extension": ".py",
   "mimetype": "text/x-python",
   "name": "python",
   "nbconvert_exporter": "python",
   "pygments_lexer": "ipython3",
   "version": "3.8.10"
  },
  "orig_nbformat": 4
 },
 "nbformat": 4,
 "nbformat_minor": 2
}
