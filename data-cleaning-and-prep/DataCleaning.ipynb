{
 "cells": [
  {
   "cell_type": "markdown",
   "id": "5dd693ef-4d36-4fb7-90f4-ce77b73b3bfe",
   "metadata": {
    "tags": []
   },
   "source": [
    "## Imports"
   ]
  },
  {
   "cell_type": "code",
   "execution_count": 2,
   "id": "194c0f9a-dee2-4558-adec-b9dfa7f0a09e",
   "metadata": {},
   "outputs": [],
   "source": [
    "import re\n",
    "import os"
   ]
  },
  {
   "cell_type": "markdown",
   "id": "1a722dc3-6a90-4e3f-b3b6-19462a918e36",
   "metadata": {},
   "source": [
    "## Import data and save as source/target sentences"
   ]
  },
  {
   "cell_type": "code",
   "execution_count": 27,
   "id": "e5e1fd46-a1c8-4a91-8dc8-6c33eae5de56",
   "metadata": {},
   "outputs": [],
   "source": [
    "src_path = \"uncleaned/thai/en-th.src\"\n",
    "tgt_path = \"uncleaned/thai/en-th.tgt\"\n",
    "out_folder_path = \"cleaned/\"\n",
    "out_path = \"en-th\"\n",
    "\n",
    "if not os.path.exists(out_folder_path):\n",
    "    os.mkdir(out_folder_path)\n",
    "\n",
    "source_data = []\n",
    "target_data = []\n",
    "\n",
    "with open(src_path) as f:\n",
    "  for line in f:\n",
    "    source_data.append(line)\n",
    "\n",
    "with open(tgt_path) as f:\n",
    "  for line in f:\n",
    "    target_data.append(line)"
   ]
  },
  {
   "cell_type": "code",
   "execution_count": 28,
   "id": "d32bb521-afe3-4b08-802a-933ac9bbbba6",
   "metadata": {},
   "outputs": [
    {
     "name": "stdout",
     "output_type": "stream",
     "text": [
      "1271197\n"
     ]
    }
   ],
   "source": [
    "print(len(source_data))"
   ]
  },
  {
   "cell_type": "markdown",
   "id": "d954f4fc-d0ee-4364-a556-90f7e9c0f54d",
   "metadata": {},
   "source": [
    "## Remove Empty Segments"
   ]
  },
  {
   "cell_type": "code",
   "execution_count": 29,
   "id": "6d29b72b-e57f-43e3-bcf3-15bc7955a5af",
   "metadata": {},
   "outputs": [],
   "source": [
    "def remove_empty_segments():\n",
    "    indeces_to_remove = []\n",
    "    for i in range(len(source_data)):\n",
    "      if (source_data[i] == \"\" and target_data[i] == \"\"):\n",
    "        indeces_to_remove.append(i)\n",
    "\n",
    "    for i in range(len(indeces_to_remove)-1, -1, -1):\n",
    "      del source_data[indeces_to_remove[i]]\n",
    "      del target_data[indeces_to_remove[i]]"
   ]
  },
  {
   "cell_type": "markdown",
   "id": "e31c81cc-6d0c-4b0b-beb3-7be435777a92",
   "metadata": {},
   "source": [
    "## Helper functions"
   ]
  },
  {
   "cell_type": "code",
   "execution_count": 30,
   "id": "bcc64264-17f6-4ef3-8711-bcb90d1b1e2c",
   "metadata": {},
   "outputs": [],
   "source": [
    "# Replace function using regular expressions\n",
    "def normalize(expressions):\n",
    "  for item in expressions:\n",
    "    for i in range(len(source_data)):\n",
    "      #source_data[i] = source_data[i].replace(item[0], item[1])\n",
    "      source_data[i] = re.sub(item[0], item[1], source_data[i])\n",
    "\n",
    "    for i in range(len(target_data)):\n",
    "      #target_data[i] = target_data[i].replace(item[0], item[1])\n",
    "      target_data[i] = re.sub(item[0], item[1], target_data[i])\n",
    "        \n",
    "def printAlignment(indexes):\n",
    "  for i in indexes:\n",
    "    print(\"Src: \" + source_data[i] + \"\\nTgt: \" + target_data[i] + \"\\n\")\n",
    "\n",
    "def printLengths():\n",
    "  print(str(len(source_data)) +  \"\\n\" + str(len(target_data)))"
   ]
  },
  {
   "cell_type": "markdown",
   "id": "f1774d8e-d424-4ca9-8518-654cdb58e12a",
   "metadata": {},
   "source": [
    "## Normalize escaped characters/entities, control characters, whitespace, quotes"
   ]
  },
  {
   "cell_type": "code",
   "execution_count": 31,
   "id": "556b3090-6bdb-4da2-85b7-8d0a20679b76",
   "metadata": {},
   "outputs": [],
   "source": [
    "# Normalize escaped characters/entities\n",
    "charAndEntities = [(r\"&nbsp;?\", \"\"),\n",
    "                   (r\"&reg;?\", \"®\"), \n",
    "                   (r\"&\\\\#39;?\", \"`\"),\n",
    "                   (r\"&ndash;?\", \"–\"), \n",
    "                   (r\"&mdash;?\", \"—\"), \n",
    "                   (r\"&acute;?\", \"´\"),\n",
    "                   (r\"&\\\\#8217;?\", \"’\"),\n",
    "                   (r\"&rsquo;?\", \"’\"),\n",
    "                   (r\"&rdquo;?\", \"”\"),\n",
    "                   (r\"&lsquo;?\", \"‘\"),\n",
    "                   (r\"&ldquo;?\", \"“\"),\n",
    "                   (r\"&hellip;?\", \"\"),\n",
    "                   (r\"&trade;?\", \"™\"),\n",
    "                   (r\"&gt;?\", \">\"),\n",
    "                   (r\"&lt;?\", \"<\"),\n",
    "                   (r\"&amp;?\", \"&\"),\n",
    "                   (r\"#*?\", \"\"),\n",
    "                   (\"\\u2013\", \"-\"),\n",
    "                   (\"\\u00a0\", \" \")]\n",
    "\n",
    "# Normalize certain control characters/Normalize whitespaces\n",
    "controlChars = [(\"\\t\", \" \"),\n",
    "                (r\"\\n|\\\\n\", \" \"),\n",
    "                (r\"\\s{2,}\", \" \"),\n",
    "                (r\"^ *\", \"\")]      # Remove leading whitespace\n",
    "\n",
    "quoteChars = [(r\"`|’|‘\", \"'\"),\n",
    "              (r\"”|“|''\\b|\\b''\", \"\\\"\"),\n",
    "              (r\"\\.''\", \".\\\"\")]\n",
    "\n",
    "tags = [(r\"<.*?>\", \"\")]\n",
    "\n",
    "other = [(r\"\\|v.*?(\\s|$)\", \"\"),\n",
    "         (r\"%%\", \"\")]\n",
    "\n",
    "brackets = [(r\"{{.*}}\", \"\"),\n",
    "            (r\"\\\\{.*\\\\}\", \"\")]\n",
    "\n",
    "footnotes = [(r\"(\\d|10) ?$\", \"\")]"
   ]
  },
  {
   "cell_type": "markdown",
   "id": "d5f0c02d-09fc-4928-8c94-576d70f2dc17",
   "metadata": {},
   "source": [
    "## Indentify and remove duplicates"
   ]
  },
  {
   "cell_type": "code",
   "execution_count": 32,
   "id": "d4b2232a-b629-41e0-a37c-73af55a5600a",
   "metadata": {},
   "outputs": [],
   "source": [
    "def remove_duplicates():\n",
    "    global source_data\n",
    "    global target_data\n",
    "    \n",
    "    # Put source and target data into one list of tuples\n",
    "    source_target = []\n",
    "    for i in range(len(source_data)):\n",
    "        item = (source_data[i], target_data[i])\n",
    "        source_target.append(item)\n",
    "\n",
    "    # Put all data into a set to remove duplicates, then put it back into a list\n",
    "    source_target = list(set(source_target))\n",
    "\n",
    "    # Save the items back in the source_data and target_data lists\n",
    "    new_source = []\n",
    "    new_target = []\n",
    "    for i in range(len(source_target)):\n",
    "        new_source.append(source_target[i][0])\n",
    "        new_target.append(source_target[i][1])\n",
    "\n",
    "    source_data = new_source\n",
    "    target_data = new_target"
   ]
  },
  {
   "cell_type": "markdown",
   "id": "d6c644ef-eb23-4cc5-9560-b1fa5061d237",
   "metadata": {},
   "source": [
    "# Check for segments that are mostly non-text content"
   ]
  },
  {
   "cell_type": "code",
   "execution_count": 33,
   "id": "89c656cd-1b53-4ec7-a0b5-848524da3beb",
   "metadata": {},
   "outputs": [],
   "source": [
    "def remove_non_text():\n",
    "    # If 40% or more of the sentence is non-word characters, remove it\n",
    "    indeces_to_remove = []\n",
    "\n",
    "    regx = re.compile('\\W')\n",
    "    for i in range(len(source_data)):\n",
    "        if len(source_data[i]) == 0:\n",
    "            #print(i)\n",
    "            continue\n",
    "\n",
    "        result = regx.findall(source_data[i])\n",
    "        ratio = len(result) / len(source_data[i])\n",
    "\n",
    "        if ratio > .4:\n",
    "            indeces_to_remove.append(i)\n",
    "\n",
    "    # Remove items\n",
    "    for i in range(len(indeces_to_remove)-1, -1, -1):\n",
    "        del source_data[i]\n",
    "        del target_data[i]"
   ]
  },
  {
   "cell_type": "markdown",
   "id": "2605f9d9-7533-4540-8ded-743825760022",
   "metadata": {},
   "source": [
    "## Remove segments where source=target"
   ]
  },
  {
   "cell_type": "code",
   "execution_count": 34,
   "id": "f2c72ee0-1824-4d01-a65c-d354496642b9",
   "metadata": {},
   "outputs": [],
   "source": [
    "def remove_source_equals_target():\n",
    "    indeces_to_remove = []\n",
    "    for i in range(len(source_data)):\n",
    "        if source_data[i] == target_data[i]:\n",
    "            indeces_to_remove.append(i)\n",
    "\n",
    "    # Remove items\n",
    "    for i in range(len(indeces_to_remove)-1, -1, -1):\n",
    "        del source_data[i]\n",
    "        del target_data[i]"
   ]
  },
  {
   "cell_type": "markdown",
   "id": "fe043892-76d9-441e-a4e9-411f6d02bcee",
   "metadata": {},
   "source": [
    "## Remove segments that are too long (>100 words) or too short (<3)"
   ]
  },
  {
   "cell_type": "code",
   "execution_count": 35,
   "id": "e7bd66b5-e0b5-46e1-bd82-ff55030d4270",
   "metadata": {},
   "outputs": [],
   "source": [
    "def remove_long_short():\n",
    "    indeces_to_remove = []\n",
    "    for i in range(len(source_data)):\n",
    "        if len(source_data[i].split()) > 100 or len(source_data[i].split()) < 3:\n",
    "            indeces_to_remove.append(i)\n",
    "            \n",
    "    # Remove items\n",
    "    for i in range(len(indeces_to_remove)-1, -1, -1):\n",
    "        del source_data[indeces_to_remove[i]]\n",
    "        del target_data[indeces_to_remove[i]]"
   ]
  },
  {
   "cell_type": "markdown",
   "id": "52124d22-3a4e-4674-ba63-3036ebcb4ab2",
   "metadata": {},
   "source": [
    "# Data cleaning pipeline"
   ]
  },
  {
   "cell_type": "code",
   "execution_count": 36,
   "id": "2dfd77cc-0dbf-4e60-8d27-e6db968543c7",
   "metadata": {},
   "outputs": [],
   "source": [
    "normalize(charAndEntities)\n",
    "normalize(controlChars)\n",
    "normalize(quoteChars)\n",
    "normalize(tags)\n",
    "normalize(other)\n",
    "normalize(brackets)\n",
    "remove_empty_segments()\n",
    "remove_duplicates()\n",
    "remove_non_text()\n",
    "remove_source_equals_target()\n",
    "remove_long_short()\n",
    "normalize(footnotes)\n",
    "remove_empty_segments()"
   ]
  },
  {
   "cell_type": "code",
   "execution_count": 37,
   "id": "60d03da1-d80e-4216-9604-a79037bcf552",
   "metadata": {},
   "outputs": [
    {
     "name": "stdout",
     "output_type": "stream",
     "text": [
      "738641\n",
      "738641\n"
     ]
    }
   ],
   "source": [
    "printLengths()"
   ]
  },
  {
   "cell_type": "markdown",
   "id": "cda49e2a-08ae-417b-ad5b-cc47796cff35",
   "metadata": {},
   "source": [
    "# Write to files"
   ]
  },
  {
   "cell_type": "code",
   "execution_count": 38,
   "id": "bf480758-2bd2-4d69-ada0-da1e3431f845",
   "metadata": {},
   "outputs": [],
   "source": [
    "with open(out_folder_path + out_path + \".src\", 'w') as f:\n",
    "    for s in source_data:\n",
    "        f.write(s + \"\\n\")\n",
    "        \n",
    "with open(out_folder_path + out_path + \".tgt\", 'w') as f:\n",
    "    for s in target_data:\n",
    "        f.write(s + \"\\n\")"
   ]
  },
  {
   "cell_type": "code",
   "execution_count": null,
   "id": "f1f38f53-3f78-41fb-8e47-a5e01f5c4b2c",
   "metadata": {},
   "outputs": [],
   "source": [
    "#indeces = [i for i in range(len(target_data))]\n",
    "#printAlignment(indeces)"
   ]
  },
  {
   "cell_type": "code",
   "execution_count": null,
   "id": "c47184a2-11da-437c-8f53-169fc3ccc09b",
   "metadata": {},
   "outputs": [],
   "source": []
  },
  {
   "cell_type": "code",
   "execution_count": null,
   "id": "4aa8a7a8-66c6-4935-b481-110768f5f516",
   "metadata": {},
   "outputs": [],
   "source": []
  }
 ],
 "metadata": {
  "kernelspec": {
   "display_name": "Python 3 (ipykernel)",
   "language": "python",
   "name": "python3"
  },
  "language_info": {
   "codemirror_mode": {
    "name": "ipython",
    "version": 3
   },
   "file_extension": ".py",
   "mimetype": "text/x-python",
   "name": "python",
   "nbconvert_exporter": "python",
   "pygments_lexer": "ipython3",
   "version": "3.10.1"
  }
 },
 "nbformat": 4,
 "nbformat_minor": 5
}
