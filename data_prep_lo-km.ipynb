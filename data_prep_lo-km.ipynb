{
 "cells": [
  {
   "cell_type": "markdown",
   "metadata": {},
   "source": [
    "### Imports"
   ]
  },
  {
   "cell_type": "code",
   "execution_count": 1,
   "metadata": {},
   "outputs": [],
   "source": [
    "import random"
   ]
  },
  {
   "cell_type": "markdown",
   "metadata": {},
   "source": [
    "### Import data"
   ]
  },
  {
   "cell_type": "code",
   "execution_count": 2,
   "metadata": {},
   "outputs": [],
   "source": [
    "src_path = 'cleaned-tagged/khmer/lo-km.src'\n",
    "tgt_path = 'cleaned-tagged/khmer/lo-km.tgt'\n",
    "\n",
    "src = []\n",
    "tgt = []\n",
    "\n",
    "with open(src_path, 'r') as input:\n",
    "    for line in input:\n",
    "        src.append(line)\n",
    "    \n",
    "with open(tgt_path, 'r') as input:\n",
    "    for line in input:\n",
    "        tgt.append(line)"
   ]
  },
  {
   "cell_type": "markdown",
   "metadata": {},
   "source": [
    "### Create training data, validation data, and testing data"
   ]
  },
  {
   "cell_type": "code",
   "execution_count": 3,
   "metadata": {},
   "outputs": [],
   "source": [
    "src_train, tgt_train = [], []\n",
    "src_test, tgt_test = [], []\n",
    "src_val, tgt_val = [], []"
   ]
  },
  {
   "cell_type": "code",
   "execution_count": 4,
   "metadata": {},
   "outputs": [
    {
     "name": "stdout",
     "output_type": "stream",
     "text": [
      "71461\n",
      "61461\n"
     ]
    }
   ],
   "source": [
    "# Figure out ratios of data\n",
    "print(len(src))\n",
    "\n",
    "print(71461 - 10000)"
   ]
  },
  {
   "cell_type": "code",
   "execution_count": 5,
   "metadata": {},
   "outputs": [],
   "source": [
    "train_size = 61461\n",
    "validation_size = 5000\n",
    "test_size = 5000\n",
    "\n",
    "all_indeces = random.sample(range(train_size+validation_size+test_size), train_size+validation_size+test_size)\n",
    "train_indeces = all_indeces[:train_size]\n",
    "validation_indeces = all_indeces[train_size:train_size+validation_size]\n",
    "test_indeces = all_indeces[train_size+validation_size:train_size+validation_size+test_size]"
   ]
  },
  {
   "cell_type": "code",
   "execution_count": 6,
   "metadata": {},
   "outputs": [
    {
     "name": "stdout",
     "output_type": "stream",
     "text": [
      "61461\n",
      "5000\n",
      "5000\n"
     ]
    }
   ],
   "source": [
    "print(len(train_indeces))\n",
    "print(len(validation_indeces))\n",
    "print(len(test_indeces))"
   ]
  },
  {
   "cell_type": "code",
   "execution_count": 7,
   "metadata": {},
   "outputs": [],
   "source": [
    "src_train = [src[i] for i in train_indeces]\n",
    "tgt_train = [tgt[i] for i in train_indeces]\n",
    "\n",
    "src_test = [src[i] for i in test_indeces]\n",
    "tgt_test = [tgt[i] for i in test_indeces]\n",
    "\n",
    "src_val = [src[i] for i in validation_indeces]\n",
    "tgt_val = [tgt[i] for i in validation_indeces]"
   ]
  },
  {
   "cell_type": "markdown",
   "metadata": {},
   "source": [
    "### Write data to file"
   ]
  },
  {
   "cell_type": "code",
   "execution_count": 8,
   "metadata": {},
   "outputs": [],
   "source": [
    "def write_to_file(path, data):\n",
    "    with open(path, 'w') as f:\n",
    "        for s in data:\n",
    "            f.write(s)"
   ]
  },
  {
   "cell_type": "code",
   "execution_count": 9,
   "metadata": {},
   "outputs": [],
   "source": [
    "src_train_path = \"lo-km/data/src-train.txt\"\n",
    "tgt_train_path = \"lo-km/data/tgt-train.txt\"\n",
    "\n",
    "src_val_path = \"lo-km/data/src-val.txt\"\n",
    "tgt_val_path = \"lo-km/data/tgt-val.txt\"\n",
    "\n",
    "src_test_path = \"lo-km/data/src-test.txt\"\n",
    "tgt_test_path = \"lo-km/data/tgt-test.txt\"\n"
   ]
  },
  {
   "cell_type": "code",
   "execution_count": 10,
   "metadata": {},
   "outputs": [],
   "source": [
    "write_to_file(src_train_path, src_train)\n",
    "write_to_file(tgt_train_path, tgt_train)\n",
    "write_to_file(src_test_path, src_test)\n",
    "write_to_file(tgt_test_path, tgt_test)\n",
    "write_to_file(src_val_path, src_val)\n",
    "write_to_file(tgt_val_path, tgt_val)"
   ]
  },
  {
   "cell_type": "code",
   "execution_count": null,
   "metadata": {},
   "outputs": [],
   "source": []
  }
 ],
 "metadata": {
  "interpreter": {
   "hash": "916dbcbb3f70747c44a77c7bcd40155683ae19c65e1c03b4aa3499c5328201f1"
  },
  "kernelspec": {
   "display_name": "Python 3.8.10 64-bit",
   "language": "python",
   "name": "python3"
  },
  "language_info": {
   "codemirror_mode": {
    "name": "ipython",
    "version": 3
   },
   "file_extension": ".py",
   "mimetype": "text/x-python",
   "name": "python",
   "nbconvert_exporter": "python",
   "pygments_lexer": "ipython3",
   "version": "3.8.10"
  },
  "orig_nbformat": 4
 },
 "nbformat": 4,
 "nbformat_minor": 2
}
